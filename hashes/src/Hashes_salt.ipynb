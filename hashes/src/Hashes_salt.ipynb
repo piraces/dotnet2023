{
  "cells": [
    {
      "cell_type": "code",
      "execution_count": null,
      "metadata": {
        "id": "0Wg0gBwY-2Eo"
      },
      "outputs": [],
      "source": [
        "import hashlib\n",
        "import requests"
      ]
    },
    {
      "cell_type": "code",
      "execution_count": null,
      "metadata": {
        "id": "v7fM-yxH-2Er"
      },
      "outputs": [],
      "source": [
        "password = '12345Qwert'\n",
        "salt = 'whatAnAmazingCon'"
      ]
    },
    {
      "cell_type": "markdown",
      "metadata": {
        "id": "mILfMsre-2Er"
      },
      "source": [
        "# MD5 Hashes (Vulnerable)"
      ]
    },
    {
      "cell_type": "code",
      "execution_count": null,
      "metadata": {
        "id": "KZW8caXA-2Es"
      },
      "outputs": [],
      "source": [
        "def get_md5_hash(text: str) -> str:\n",
        "    md5_hash = hashlib.md5()\n",
        "    md5_hash.update(text.encode('utf-8'))\n",
        "    hash_result = md5_hash.hexdigest()\n",
        "\n",
        "    return hash_result\n",
        "\n",
        "def get_md5_salted_hash(text: str, salt: str) -> str:\n",
        "    salted_text = salt + text\n",
        "\n",
        "    return get_md5_hash(salted_text)\n",
        "\n"
      ]
    },
    {
      "cell_type": "code",
      "execution_count": null,
      "metadata": {
        "colab": {
          "base_uri": "https://localhost:8080/"
        },
        "id": "hzZ38C7D-2Et",
        "outputId": "654c2d36-fdad-4f81-ea20-f5907949ef91"
      },
      "outputs": [
        {
          "output_type": "stream",
          "name": "stdout",
          "text": [
            "The md5 hash is: 18a49c364ba10330d894b11652e65bc2\n",
            "The salted md5 hash is: ec31aadc6a06fe53ca079564c48596a6\n"
          ]
        }
      ],
      "source": [
        "hash = get_md5_hash(password)\n",
        "salted_hash = get_md5_salted_hash(password, salt)\n",
        "\n",
        "print(f'The md5 hash is: {hash}')\n",
        "print(f'The salted md5 hash is: {salted_hash}')"
      ]
    },
    {
      "cell_type": "markdown",
      "metadata": {
        "id": "7v8iB_kH-2Et"
      },
      "source": [
        "# SHA 256 Hashes"
      ]
    },
    {
      "cell_type": "code",
      "execution_count": null,
      "metadata": {
        "id": "ZeGVBMMv-2Et"
      },
      "outputs": [],
      "source": [
        "def get_sha256_hash(text: str) -> str:\n",
        "    return hashlib.sha256(text.encode()).hexdigest()\n",
        "\n",
        "def get_sha256_salted_hash(text: str, salt: str) -> str:\n",
        "    salted_text = salt + text\n",
        "    return get_sha256_hash(salted_text)"
      ]
    },
    {
      "cell_type": "code",
      "execution_count": null,
      "metadata": {
        "colab": {
          "base_uri": "https://localhost:8080/"
        },
        "id": "9d6L4idW-2Eu",
        "outputId": "6635ea15-5284-4009-d44d-a5c26e64b3b9"
      },
      "outputs": [
        {
          "output_type": "stream",
          "name": "stdout",
          "text": [
            "The sha256 hash is: c90142696762be2f4632c18382315ab39e20a41e997cd8a41502aeafcfae49fe\n",
            "The salted sha256 hash is: b60c0049182cc396182f62cf598c39a4cfe73ce889f31c840014c09cdc1b3bb6\n"
          ]
        }
      ],
      "source": [
        "hash = get_sha256_hash(password)\n",
        "salted_hash = get_sha256_salted_hash(password, salt)\n",
        "\n",
        "print(f'The sha256 hash is: {hash}')\n",
        "print(f'The salted sha256 hash is: {salted_hash}')"
      ]
    },
    {
      "cell_type": "markdown",
      "metadata": {
        "id": "I8W-inb3qcb5"
      },
      "source": [
        "# Certificates Checker\n"
      ]
    },
    {
      "cell_type": "code",
      "execution_count": 5,
      "metadata": {
        "id": "871nXmWkqcb5",
        "outputId": "df5da049-1c9f-49fd-fe7e-091991d9fc33",
        "colab": {
          "base_uri": "https://localhost:8080/"
        }
      },
      "outputs": [
        {
          "output_type": "stream",
          "name": "stdout",
          "text": [
            "Collecting certvalidator\n",
            "  Downloading certvalidator-0.11.1-py2.py3-none-any.whl (31 kB)\n",
            "Collecting asn1crypto>=0.18.1 (from certvalidator)\n",
            "  Downloading asn1crypto-1.5.1-py2.py3-none-any.whl (105 kB)\n",
            "\u001b[2K     \u001b[90m━━━━━━━━━━━━━━━━━━━━━━━━━━━━━━━━━━━━━━━━\u001b[0m \u001b[32m105.0/105.0 kB\u001b[0m \u001b[31m4.1 MB/s\u001b[0m eta \u001b[36m0:00:00\u001b[0m\n",
            "\u001b[?25hCollecting oscrypto>=0.16.1 (from certvalidator)\n",
            "  Downloading oscrypto-1.3.0-py2.py3-none-any.whl (194 kB)\n",
            "\u001b[2K     \u001b[90m━━━━━━━━━━━━━━━━━━━━━━━━━━━━━━━━━━━━━━━━\u001b[0m \u001b[32m194.6/194.6 kB\u001b[0m \u001b[31m11.5 MB/s\u001b[0m eta \u001b[36m0:00:00\u001b[0m\n",
            "\u001b[?25hInstalling collected packages: asn1crypto, oscrypto, certvalidator\n",
            "Successfully installed asn1crypto-1.5.1 certvalidator-0.11.1 oscrypto-1.3.0\n"
          ]
        }
      ],
      "source": [
        "!pip install certvalidator\n"
      ]
    },
    {
      "cell_type": "code",
      "execution_count": 6,
      "metadata": {
        "id": "BCv-KuZdqcb6",
        "outputId": "4af3dee3-c5d6-4e5f-997a-7dce4589cbaf",
        "colab": {
          "base_uri": "https://localhost:8080/"
        }
      },
      "outputs": [
        {
          "output_type": "stream",
          "name": "stdout",
          "text": [
            "Unexpected The path could not be validated because the end-entity certificate expired 2015-04-12 23:59:59Z\n",
            " type: <class 'certvalidator.errors.PathValidationError'>\n"
          ]
        }
      ],
      "source": [
        "from oscrypto import tls\n",
        "from certvalidator import CertificateValidator\n",
        "\n",
        "\n",
        "expired_cert = 'expired.badssl.com'\n",
        "self_signed = 'self-signed.badssl.com'\n",
        "bad_dh = 'dh480.badssl.com'\n",
        "\n",
        "try:\n",
        "    session = tls.TLSSession(manual_validation=True)\n",
        "    connection = tls.TLSSocket(expired_cert, 443, session=session)\n",
        "\n",
        "    validator = CertificateValidator(connection.certificate, connection.intermediates)\n",
        "    validator.validate_tls(connection.hostname)\n",
        "except Exception as err:\n",
        "    print(f\"Unexpected {err}\")\n",
        "    print(f\" type: {type(err)}\")"
      ]
    },
    {
      "cell_type": "markdown",
      "source": [
        "# SSL/TLS Scan"
      ],
      "metadata": {
        "id": "tvjjCBncqvzk"
      }
    },
    {
      "cell_type": "code",
      "source": [
        "!pip install sslyze"
      ],
      "metadata": {
        "id": "lbOInYRZq5oj",
        "outputId": "ffe04200-5aa1-4cb6-c6d4-a32f54be61b8",
        "colab": {
          "base_uri": "https://localhost:8080/"
        }
      },
      "execution_count": 7,
      "outputs": [
        {
          "output_type": "stream",
          "name": "stdout",
          "text": [
            "Requirement already satisfied: sslyze in /usr/local/lib/python3.10/dist-packages (5.2.0)\n",
            "Requirement already satisfied: nassl<6,>=5.1 in /usr/local/lib/python3.10/dist-packages (from sslyze) (5.1.0)\n",
            "Requirement already satisfied: cryptography<42,>=2.6 in /usr/local/lib/python3.10/dist-packages (from sslyze) (41.0.5)\n",
            "Requirement already satisfied: tls-parser<3,>=2 in /usr/local/lib/python3.10/dist-packages (from sslyze) (2.0.1)\n",
            "Requirement already satisfied: pydantic<2.4,>=1.10 in /usr/local/lib/python3.10/dist-packages (from sslyze) (1.10.13)\n",
            "Requirement already satisfied: pyOpenSSL<24,>=23 in /usr/local/lib/python3.10/dist-packages (from sslyze) (23.3.0)\n",
            "Requirement already satisfied: cffi>=1.12 in /usr/local/lib/python3.10/dist-packages (from cryptography<42,>=2.6->sslyze) (1.16.0)\n",
            "Requirement already satisfied: typing-extensions>=4.2.0 in /usr/local/lib/python3.10/dist-packages (from pydantic<2.4,>=1.10->sslyze) (4.5.0)\n",
            "Requirement already satisfied: pycparser in /usr/local/lib/python3.10/dist-packages (from cffi>=1.12->cryptography<42,>=2.6->sslyze) (2.21)\n"
          ]
        }
      ]
    },
    {
      "cell_type": "code",
      "source": [
        "!python -m sslyze --mozilla_config=modern cloudflare.com"
      ],
      "metadata": {
        "id": "4pRYOudWuQt4",
        "outputId": "516b603f-4681-4fe8-893f-c44c3cb01698",
        "colab": {
          "base_uri": "https://localhost:8080/"
        }
      },
      "execution_count": 10,
      "outputs": [
        {
          "output_type": "stream",
          "name": "stdout",
          "text": [
            "\n",
            " CHECKING CONNECTIVITY TO SERVER(S)\n",
            " ----------------------------------\n",
            "\n",
            "   cloudflare.com:443        => 104.16.132.229 \n",
            "\n",
            "\n",
            " SCAN RESULTS FOR CLOUDFLARE.COM:443 - 104.16.132.229\n",
            " ----------------------------------------------------\n",
            "\n",
            " * Certificates Information:\n",
            "       Hostname sent for SNI:             cloudflare.com\n",
            "       Number of certificates detected:   2\n",
            "\n",
            "\n",
            "     Certificate #0 ( _EllipticCurvePublicKey )\n",
            "       SHA1 Fingerprint:                  f97ce6c0fcc2e0b942d4aeec256dc931abd7db42\n",
            "       Common Name:                       cloudflare.com\n",
            "       Issuer:                            Cloudflare Inc ECC CA-3\n",
            "       Serial Number:                     5233485985088855868343326294380783946\n",
            "       Not Before:                        2023-10-02\n",
            "       Not After:                         2023-12-31\n",
            "       Public Key Algorithm:              _EllipticCurvePublicKey\n",
            "       Signature Algorithm:               sha256\n",
            "       Key Size:                          256\n",
            "       Curve:                             secp256r1\n",
            "       SubjAltName - DNS Names:           ['cloudflare.com', '*.secondary.cloudflare.com', 'secondary.cloudflare.com', 'ns.cloudflare.com', '*.ns.cloudflare.com']\n",
            "\n",
            "     Certificate #0 - Trust\n",
            "       Hostname Validation:               OK - Certificate matches server hostname\n",
            "       Android CA Store (13.0.0_r9):      OK - Certificate is trusted\n",
            "       Apple CA Store (iOS 16.5, iPadOS 16.5, macOS 13.5, tvOS 16.5, and watchOS 9.5):OK - Certificate is trusted\n",
            "       Java CA Store (jdk-13.0.2):        OK - Certificate is trusted\n",
            "       Mozilla CA Store (2023-07-27):     OK - Certificate is trusted\n",
            "       Windows CA Store (2023-06-11):     OK - Certificate is trusted\n",
            "       Symantec 2018 Deprecation:         OK - Not a Symantec-issued certificate\n",
            "       Received Chain:                    cloudflare.com --> Cloudflare Inc ECC CA-3\n",
            "       Verified Chain:                    cloudflare.com --> Cloudflare Inc ECC CA-3 --> Baltimore CyberTrust Root\n",
            "       Received Chain Contains Anchor:    OK - Anchor certificate not sent\n",
            "       Received Chain Order:              OK - Order is valid\n",
            "       Verified Chain contains SHA1:      OK - No SHA1-signed certificate in the verified certificate chain\n",
            "\n",
            "     Certificate #0 - Extensions\n",
            "       OCSP Must-Staple:                  NOT SUPPORTED - Extension not found\n",
            "       Certificate Transparency:          OK - 3 SCTs included\n",
            "\n",
            "     Certificate #0 - OCSP Stapling\n",
            "       OCSP Response Status:              SUCCESSFUL\n",
            "       Validation w/ Mozilla Store:       OK - Response is trusted\n",
            "       Responder Key Hash:                b'\\xa5\\xce7\\xea\\xeb\\xb0u\\x0e\\x94g\\x88\\xb4E\\xfa\\xd9$\\x10\\x87\\x96\\x1f'\n",
            "       Cert Status:                       GOOD\n",
            "       Cert Serial Number:                5233485985088855868343326294380783946\n",
            "       This Update:                       2023-11-10\n",
            "       Next Update:                       2023-11-17\n",
            "\n",
            "\n",
            "     Certificate #1 ( _RSAPublicKey )\n",
            "       SHA1 Fingerprint:                  5ff2d01a5b0ddeea91800a10ef9cc93ddc7681e7\n",
            "       Common Name:                       cloudflare.com\n",
            "       Issuer:                            Cloudflare Inc RSA CA-2\n",
            "       Serial Number:                     20957909947203344368950827704648047993\n",
            "       Not Before:                        2023-10-02\n",
            "       Not After:                         2023-12-31\n",
            "       Public Key Algorithm:              _RSAPublicKey\n",
            "       Signature Algorithm:               sha256\n",
            "       Key Size:                          2048\n",
            "       Exponent:                          65537\n",
            "       SubjAltName - DNS Names:           ['*.secondary.cloudflare.com', '*.ns.cloudflare.com', 'cloudflare.com', 'ns.cloudflare.com', 'secondary.cloudflare.com']\n",
            "\n",
            "     Certificate #1 - Trust\n",
            "       Hostname Validation:               OK - Certificate matches server hostname\n",
            "       Android CA Store (13.0.0_r9):      OK - Certificate is trusted\n",
            "       Apple CA Store (iOS 16.5, iPadOS 16.5, macOS 13.5, tvOS 16.5, and watchOS 9.5):OK - Certificate is trusted\n",
            "       Java CA Store (jdk-13.0.2):        OK - Certificate is trusted\n",
            "       Mozilla CA Store (2023-07-27):     OK - Certificate is trusted\n",
            "       Windows CA Store (2023-06-11):     OK - Certificate is trusted\n",
            "       Symantec 2018 Deprecation:         OK - Not a Symantec-issued certificate\n",
            "       Received Chain:                    cloudflare.com --> Cloudflare Inc RSA CA-2\n",
            "       Verified Chain:                    cloudflare.com --> Cloudflare Inc RSA CA-2 --> Baltimore CyberTrust Root\n",
            "       Received Chain Contains Anchor:    OK - Anchor certificate not sent\n",
            "       Received Chain Order:              OK - Order is valid\n",
            "       Verified Chain contains SHA1:      OK - No SHA1-signed certificate in the verified certificate chain\n",
            "\n",
            "     Certificate #1 - Extensions\n",
            "       OCSP Must-Staple:                  NOT SUPPORTED - Extension not found\n",
            "       Certificate Transparency:          OK - 3 SCTs included\n",
            "\n",
            "     Certificate #1 - OCSP Stapling\n",
            "       OCSP Response Status:              SUCCESSFUL\n",
            "       Validation w/ Mozilla Store:       OK - Response is trusted\n",
            "       Responder Key Hash:                b'\\x18\\xa9\\x1a\\xfc\\xb2EI\\xc1o04\\x08+\\xd9\\x87\\x9c\\xb0%Wz'\n",
            "       Cert Status:                       GOOD\n",
            "       Cert Serial Number:                20957909947203344368950827704648047993\n",
            "       This Update:                       2023-11-10\n",
            "       Next Update:                       2023-11-17\n",
            "\n",
            " * SSL 2.0 Cipher Suites:\n",
            "     Attempted to connect using 7 cipher suites; the server rejected all cipher suites.\n",
            "\n",
            " * SSL 3.0 Cipher Suites:\n",
            "     Attempted to connect using 80 cipher suites; the server rejected all cipher suites.\n",
            "\n",
            " * TLS 1.0 Cipher Suites:\n",
            "     Attempted to connect using 80 cipher suites.\n",
            "\n",
            "     The server accepted the following 5 cipher suites:\n",
            "        TLS_RSA_WITH_AES_256_CBC_SHA                      256                      \n",
            "        TLS_RSA_WITH_AES_128_CBC_SHA                      128                      \n",
            "        TLS_RSA_WITH_3DES_EDE_CBC_SHA                     168                      \n",
            "        TLS_ECDHE_RSA_WITH_AES_256_CBC_SHA                256       ECDH: prime256v1 (256 bits)\n",
            "        TLS_ECDHE_RSA_WITH_AES_128_CBC_SHA                128       ECDH: prime256v1 (256 bits)\n",
            "\n",
            "     The group of cipher suites supported by the server has the following properties:\n",
            "       Forward Secrecy                    OK - Supported\n",
            "       Legacy RC4 Algorithm               OK - Not Supported\n",
            "\n",
            "\n",
            " * TLS 1.1 Cipher Suites:\n",
            "     Attempted to connect using 80 cipher suites.\n",
            "\n",
            "     The server accepted the following 4 cipher suites:\n",
            "        TLS_RSA_WITH_AES_256_CBC_SHA                      256                      \n",
            "        TLS_RSA_WITH_AES_128_CBC_SHA                      128                      \n",
            "        TLS_ECDHE_RSA_WITH_AES_256_CBC_SHA                256       ECDH: prime256v1 (256 bits)\n",
            "        TLS_ECDHE_RSA_WITH_AES_128_CBC_SHA                128       ECDH: prime256v1 (256 bits)\n",
            "\n",
            "     The group of cipher suites supported by the server has the following properties:\n",
            "       Forward Secrecy                    OK - Supported\n",
            "       Legacy RC4 Algorithm               OK - Not Supported\n",
            "\n",
            "\n",
            " * TLS 1.2 Cipher Suites:\n",
            "     Attempted to connect using 156 cipher suites.\n",
            "\n",
            "     The server accepted the following 20 cipher suites:\n",
            "        TLS_RSA_WITH_AES_256_GCM_SHA384                   256                      \n",
            "        TLS_RSA_WITH_AES_256_CBC_SHA256                   256                      \n",
            "        TLS_RSA_WITH_AES_256_CBC_SHA                      256                      \n",
            "        TLS_RSA_WITH_AES_128_GCM_SHA256                   128                      \n",
            "        TLS_RSA_WITH_AES_128_CBC_SHA256                   128                      \n",
            "        TLS_RSA_WITH_AES_128_CBC_SHA                      128                      \n",
            "        TLS_ECDHE_RSA_WITH_CHACHA20_POLY1305_SHA256       256       ECDH: X25519 (253 bits)\n",
            "        TLS_ECDHE_RSA_WITH_AES_256_GCM_SHA384             256       ECDH: prime256v1 (256 bits)\n",
            "        TLS_ECDHE_RSA_WITH_AES_256_CBC_SHA384             256       ECDH: prime256v1 (256 bits)\n",
            "        TLS_ECDHE_RSA_WITH_AES_256_CBC_SHA                256       ECDH: prime256v1 (256 bits)\n",
            "        TLS_ECDHE_RSA_WITH_AES_128_GCM_SHA256             128       ECDH: prime256v1 (256 bits)\n",
            "        TLS_ECDHE_RSA_WITH_AES_128_CBC_SHA256             128       ECDH: prime256v1 (256 bits)\n",
            "        TLS_ECDHE_RSA_WITH_AES_128_CBC_SHA                128       ECDH: prime256v1 (256 bits)\n",
            "        TLS_ECDHE_ECDSA_WITH_CHACHA20_POLY1305_SHA256     256       ECDH: X25519 (253 bits)\n",
            "        TLS_ECDHE_ECDSA_WITH_AES_256_GCM_SHA384           256       ECDH: prime256v1 (256 bits)\n",
            "        TLS_ECDHE_ECDSA_WITH_AES_256_CBC_SHA384           256       ECDH: prime256v1 (256 bits)\n",
            "        TLS_ECDHE_ECDSA_WITH_AES_256_CBC_SHA              256       ECDH: prime256v1 (256 bits)\n",
            "        TLS_ECDHE_ECDSA_WITH_AES_128_GCM_SHA256           128       ECDH: prime256v1 (256 bits)\n",
            "        TLS_ECDHE_ECDSA_WITH_AES_128_CBC_SHA256           128       ECDH: prime256v1 (256 bits)\n",
            "        TLS_ECDHE_ECDSA_WITH_AES_128_CBC_SHA              128       ECDH: prime256v1 (256 bits)\n",
            "\n",
            "     The group of cipher suites supported by the server has the following properties:\n",
            "       Forward Secrecy                    OK - Supported\n",
            "       Legacy RC4 Algorithm               OK - Not Supported\n",
            "\n",
            "\n",
            " * TLS 1.3 Cipher Suites:\n",
            "     Attempted to connect using 5 cipher suites.\n",
            "\n",
            "     The server accepted the following 3 cipher suites:\n",
            "        TLS_CHACHA20_POLY1305_SHA256                      256       ECDH: X25519 (253 bits)\n",
            "        TLS_AES_256_GCM_SHA384                            256       ECDH: X25519 (253 bits)\n",
            "        TLS_AES_128_GCM_SHA256                            128       ECDH: X25519 (253 bits)\n",
            "\n",
            "\n",
            " * Deflate Compression:\n",
            "                                          OK - Compression disabled\n",
            "\n",
            " * OpenSSL CCS Injection:\n",
            "                                          OK - Not vulnerable to OpenSSL CCS injection\n",
            "\n",
            " * OpenSSL Heartbleed:\n",
            "                                          OK - Not vulnerable to Heartbleed\n",
            "\n",
            " * ROBOT Attack:\n",
            "                                          OK - Not vulnerable.\n",
            "\n",
            " * Session Renegotiation:\n",
            "       Client Renegotiation DoS Attack:   OK - Not vulnerable\n",
            "       Secure Renegotiation:              OK - Supported\n",
            "\n",
            " * Elliptic Curve Key Exchange:\n",
            "       Supported curves:                  X25519, prime256v1, secp384r1, secp521r1\n",
            "       Rejected curves:                   X448, prime192v1, secp160k1, secp160r1, secp160r2, secp192k1, secp224k1, secp224r1, secp256k1, sect163k1, sect163r1, sect163r2, sect193r1, sect193r2, sect233k1, sect233r1, sect239k1, sect283k1, sect283r1, sect409k1, sect409r1, sect571k1, sect571r1\n",
            "\n",
            " SCANS COMPLETED IN 2.983400 S\n",
            " -----------------------------\n",
            "\n",
            " COMPLIANCE AGAINST MOZILLA TLS CONFIGURATION\n",
            " --------------------------------------------\n",
            "\n",
            "    Checking results against Mozilla's \"modern\" configuration. See https://ssl-config.mozilla.org/ for more details.\n",
            "\n",
            "    cloudflare.com:443: FAILED - Not compliant.\n",
            "        * tls_versions: TLS versions {'TLSv1.1', 'TLSv1.2', 'TLSv1'} are supported, but should be rejected.\n",
            "        * ciphers: Cipher suites {'TLS_ECDHE_RSA_WITH_AES_256_CBC_SHA', 'TLS_ECDHE_ECDSA_WITH_AES_256_CBC_SHA384', 'TLS_ECDHE_ECDSA_WITH_AES_256_GCM_SHA384', 'TLS_ECDHE_RSA_WITH_AES_128_CBC_SHA', 'TLS_ECDHE_RSA_WITH_AES_128_GCM_SHA256', 'TLS_ECDHE_RSA_WITH_AES_256_GCM_SHA384', 'TLS_RSA_WITH_AES_128_GCM_SHA256', 'TLS_ECDHE_RSA_WITH_CHACHA20_POLY1305_SHA256', 'TLS_ECDHE_RSA_WITH_AES_256_CBC_SHA384', 'TLS_RSA_WITH_AES_128_CBC_SHA', 'TLS_ECDHE_ECDSA_WITH_CHACHA20_POLY1305_SHA256', 'TLS_RSA_WITH_AES_256_CBC_SHA', 'TLS_RSA_WITH_AES_256_CBC_SHA256', 'TLS_RSA_WITH_AES_128_CBC_SHA256', 'TLS_RSA_WITH_3DES_EDE_CBC_SHA', 'TLS_ECDHE_ECDSA_WITH_AES_128_GCM_SHA256', 'TLS_ECDHE_ECDSA_WITH_AES_128_CBC_SHA256', 'TLS_RSA_WITH_AES_256_GCM_SHA384', 'TLS_ECDHE_ECDSA_WITH_AES_256_CBC_SHA', 'TLS_ECDHE_ECDSA_WITH_AES_128_CBC_SHA', 'TLS_ECDHE_RSA_WITH_AES_128_CBC_SHA256'} are supported, but should be rejected.\n",
            "\n"
          ]
        }
      ]
    },
    {
      "cell_type": "code",
      "source": [
        "from datetime import datetime\n",
        "from pathlib import Path\n",
        "from typing import List\n",
        "\n",
        "from sslyze import (\n",
        "    Scanner,\n",
        "    ServerScanRequest,\n",
        "    SslyzeOutputAsJson,\n",
        "    ServerNetworkLocation,\n",
        "    ScanCommandAttemptStatusEnum,\n",
        "    ServerScanStatusEnum,\n",
        "    ServerScanResult,\n",
        "    ServerScanResultAsJson,\n",
        ")\n",
        "from sslyze.errors import ServerHostnameCouldNotBeResolved\n",
        "from sslyze.scanner.scan_command_attempt import ScanCommandAttempt\n",
        "\n",
        "\n",
        "def _print_failed_scan_command_attempt(scan_command_attempt: ScanCommandAttempt) -> None:\n",
        "    print(\n",
        "        f\"\\nError when running ssl_2_0_cipher_suites: {scan_command_attempt.error_reason}:\\n\"\n",
        "        f\"{scan_command_attempt.error_trace}\"\n",
        "    )\n",
        "\n",
        "\n",
        "def main() -> None:\n",
        "    print(\"=> Starting the scans\")\n",
        "    date_scans_started = datetime.utcnow()\n",
        "\n",
        "    # First create the scan requests for each server that we want to scan\n",
        "    try:\n",
        "        all_scan_requests = [\n",
        "            ServerScanRequest(server_location=ServerNetworkLocation(hostname=\"cloudflare.com\")),\n",
        "            ServerScanRequest(server_location=ServerNetworkLocation(hostname=\"google.com\")),\n",
        "        ]\n",
        "    except ServerHostnameCouldNotBeResolved:\n",
        "        # Handle bad input ie. invalid hostnames\n",
        "        print(\"Error resolving the supplied hostnames\")\n",
        "        return\n",
        "\n",
        "    # Then queue all the scans\n",
        "    scanner = Scanner()\n",
        "    scanner.queue_scans(all_scan_requests)\n",
        "\n",
        "    # And retrieve and process the results for each server\n",
        "    all_server_scan_results = []\n",
        "    for server_scan_result in scanner.get_results():\n",
        "        all_server_scan_results.append(server_scan_result)\n",
        "        print(f\"\\n\\n****Results for {server_scan_result.server_location.hostname}****\")\n",
        "\n",
        "        # Were we able to connect to the server and run the scan?\n",
        "        if server_scan_result.scan_status == ServerScanStatusEnum.ERROR_NO_CONNECTIVITY:\n",
        "            # No we weren't\n",
        "            print(\n",
        "                f\"\\nError: Could not connect to {server_scan_result.server_location.hostname}:\"\n",
        "                f\" {server_scan_result.connectivity_error_trace}\"\n",
        "            )\n",
        "            continue\n",
        "\n",
        "        # Since we were able to run the scan, scan_result is populated\n",
        "        assert server_scan_result.scan_result\n",
        "\n",
        "        # Process the result of the SSL 2.0 scan command\n",
        "        ssl2_attempt = server_scan_result.scan_result.ssl_2_0_cipher_suites\n",
        "        if ssl2_attempt.status == ScanCommandAttemptStatusEnum.ERROR:\n",
        "            # An error happened when this scan command was run\n",
        "            _print_failed_scan_command_attempt(ssl2_attempt)\n",
        "        elif ssl2_attempt.status == ScanCommandAttemptStatusEnum.COMPLETED:\n",
        "            # This scan command was run successfully\n",
        "            ssl2_result = ssl2_attempt.result\n",
        "            assert ssl2_result\n",
        "            print(\"\\nAccepted cipher suites for SSL 2.0:\")\n",
        "            for accepted_cipher_suite in ssl2_result.accepted_cipher_suites:\n",
        "                print(f\"* {accepted_cipher_suite.cipher_suite.name}\")\n",
        "\n",
        "        # Process the result of the TLS 1.3 scan command\n",
        "        tls1_3_attempt = server_scan_result.scan_result.tls_1_3_cipher_suites\n",
        "        if tls1_3_attempt.status == ScanCommandAttemptStatusEnum.ERROR:\n",
        "            _print_failed_scan_command_attempt(ssl2_attempt)\n",
        "        elif tls1_3_attempt.status == ScanCommandAttemptStatusEnum.COMPLETED:\n",
        "            tls1_3_result = tls1_3_attempt.result\n",
        "            assert tls1_3_result\n",
        "            print(\"\\nAccepted cipher suites for TLS 1.3:\")\n",
        "            for accepted_cipher_suite in tls1_3_result.accepted_cipher_suites:\n",
        "                print(f\"* {accepted_cipher_suite.cipher_suite.name}\")\n",
        "\n",
        "        # Process the result of the certificate info scan command\n",
        "        certinfo_attempt = server_scan_result.scan_result.certificate_info\n",
        "        if certinfo_attempt.status == ScanCommandAttemptStatusEnum.ERROR:\n",
        "            _print_failed_scan_command_attempt(certinfo_attempt)\n",
        "        elif certinfo_attempt.status == ScanCommandAttemptStatusEnum.COMPLETED:\n",
        "            certinfo_result = certinfo_attempt.result\n",
        "            assert certinfo_result\n",
        "            print(\"\\nLeaf certificates deployed:\")\n",
        "            for cert_deployment in certinfo_result.certificate_deployments:\n",
        "                leaf_cert = cert_deployment.received_certificate_chain[0]\n",
        "                print(\n",
        "                    f\"{leaf_cert.public_key().__class__.__name__}: {leaf_cert.subject.rfc4514_string()}\"\n",
        "                    f\" (Serial: {leaf_cert.serial_number})\"\n",
        "                )\n",
        "\n",
        "        # etc... Other scan command results to process are in server_scan_result.scan_result\n",
        "\n",
        "    # Lastly, save the all the results to a JSON file\n",
        "    json_file_out = Path(\"api_sample_results.json\")\n",
        "    print(f\"\\n\\n=> Saving scan results to {json_file_out}\")\n",
        "    example_json_result_output(json_file_out, all_server_scan_results, date_scans_started, datetime.utcnow())\n",
        "\n",
        "    # And ensure we are able to parse them\n",
        "    print(f\"\\n\\n=> Parsing scan results from {json_file_out}\")\n",
        "    example_json_result_parsing(json_file_out)\n",
        "\n",
        "\n",
        "def example_json_result_output(\n",
        "    json_file_out: Path,\n",
        "    all_server_scan_results: List[ServerScanResult],\n",
        "    date_scans_started: datetime,\n",
        "    date_scans_completed: datetime,\n",
        ") -> None:\n",
        "    json_output = SslyzeOutputAsJson(\n",
        "        server_scan_results=[ServerScanResultAsJson.from_orm(result) for result in all_server_scan_results],\n",
        "        invalid_server_strings=[],  # Not needed here - specific to the CLI interface\n",
        "        date_scans_started=date_scans_started,\n",
        "        date_scans_completed=date_scans_completed,\n",
        "    )\n",
        "    json_output_as_str = json_output.json()  # TODO(#617): Switch to model_dump_json()\n",
        "    json_file_out.write_text(json_output_as_str)\n",
        "\n",
        "\n",
        "def example_json_result_parsing(results_as_json_file: Path) -> None:\n",
        "    # SSLyze scan results serialized to JSON were saved to this file using --json_out\n",
        "    results_as_json = results_as_json_file.read_text()\n",
        "\n",
        "    # These results can be parsed\n",
        "    parsed_results = SslyzeOutputAsJson.parse_raw(results_as_json)\n",
        "\n",
        "    # Making it easy to do post-processing and inspection of the results\n",
        "    print(\"The following servers were scanned:\")\n",
        "    for server_scan_result in parsed_results.server_scan_results:\n",
        "        print(f\"\\n****{server_scan_result.server_location.hostname}:{server_scan_result.server_location.port}****\")\n",
        "\n",
        "        if server_scan_result.scan_status == ServerScanStatusEnum.ERROR_NO_CONNECTIVITY:\n",
        "            print(f\"That scan failed with the following error:\\n{server_scan_result.connectivity_error_trace}\")\n",
        "            continue\n",
        "\n",
        "        assert server_scan_result.scan_result\n",
        "        certinfo_attempt = server_scan_result.scan_result.certificate_info\n",
        "        if certinfo_attempt.status == ScanCommandAttemptStatusEnum.ERROR:\n",
        "            _print_failed_scan_command_attempt(certinfo_attempt)  # type: ignore\n",
        "        else:\n",
        "            certinfo_result = server_scan_result.scan_result.certificate_info.result\n",
        "            assert certinfo_result\n",
        "            for cert_deployment in certinfo_result.certificate_deployments:\n",
        "                print(f\"    SHA1 of leaf certificate: {cert_deployment.received_certificate_chain[0].fingerprint_sha1}\")\n",
        "            print(\"\")\n",
        "\n",
        "main()"
      ],
      "metadata": {
        "id": "98eC50CGrFu_",
        "outputId": "50b92f89-9630-40f1-bbf4-4cbcdec5f5ed",
        "colab": {
          "base_uri": "https://localhost:8080/"
        }
      },
      "execution_count": 4,
      "outputs": [
        {
          "output_type": "stream",
          "name": "stdout",
          "text": [
            "=> Starting the scans\n",
            "\n",
            "\n",
            "****Results for google.com****\n",
            "\n",
            "Accepted cipher suites for SSL 2.0:\n",
            "\n",
            "Accepted cipher suites for TLS 1.3:\n",
            "* TLS_CHACHA20_POLY1305_SHA256\n",
            "* TLS_AES_256_GCM_SHA384\n",
            "* TLS_AES_128_GCM_SHA256\n",
            "\n",
            "Leaf certificates deployed:\n",
            "_EllipticCurvePublicKey: CN=*.google.com (Serial: 245575298691591324854831610557896170296)\n",
            "_RSAPublicKey: CN=*.google.com (Serial: 233574600657540269058516335385323139458)\n",
            "\n",
            "\n",
            "****Results for cloudflare.com****\n",
            "\n",
            "Accepted cipher suites for SSL 2.0:\n",
            "\n",
            "Accepted cipher suites for TLS 1.3:\n",
            "* TLS_CHACHA20_POLY1305_SHA256\n",
            "* TLS_AES_256_GCM_SHA384\n",
            "* TLS_AES_128_GCM_SHA256\n",
            "\n",
            "Leaf certificates deployed:\n",
            "_EllipticCurvePublicKey: CN=cloudflare.com,O=Cloudflare\\, Inc.,L=San Francisco,ST=California,C=US (Serial: 5233485985088855868343326294380783946)\n",
            "_RSAPublicKey: CN=cloudflare.com,O=Cloudflare\\, Inc.,L=San Francisco,ST=California,C=US (Serial: 20957909947203344368950827704648047993)\n",
            "\n",
            "\n",
            "=> Saving scan results to api_sample_results.json\n",
            "\n",
            "\n",
            "=> Parsing scan results from api_sample_results.json\n",
            "The following servers were scanned:\n",
            "\n",
            "****google.com:443****\n",
            "    SHA1 of leaf certificate: /e5FIaI8lYKbuj96WTz2wnvHhI8=\n",
            "    SHA1 of leaf certificate: L93lI+l2FC+Ptl/WhbK0nVBvyRE=\n",
            "\n",
            "\n",
            "****cloudflare.com:443****\n",
            "    SHA1 of leaf certificate: +XzmwPzC4LlC1K7sJW3JMavX20I=\n",
            "    SHA1 of leaf certificate: X/LQGlsN3uqRgAoQ75zJPdx2gec=\n",
            "\n"
          ]
        }
      ]
    },
    {
      "cell_type": "markdown",
      "metadata": {
        "id": "8Z5hmFRL-5dv"
      },
      "source": [
        "# Check for filtered password using HIBP (Have I Been Pwned?)"
      ]
    },
    {
      "cell_type": "code",
      "execution_count": null,
      "metadata": {
        "id": "3tnb0E2Jqcb6"
      },
      "outputs": [],
      "source": [
        "password = '1234'"
      ]
    },
    {
      "cell_type": "code",
      "execution_count": null,
      "metadata": {
        "colab": {
          "base_uri": "https://localhost:8080/"
        },
        "id": "ewcmnYy__GaZ",
        "outputId": "cde48bd7-0e13-4ad6-d9ec-d8d2950a6e3d"
      },
      "outputs": [
        {
          "name": "stdout",
          "output_type": "stream",
          "text": [
            "This password has been seen 1473205 times before...\n"
          ]
        }
      ],
      "source": [
        "base_url = \"https://api.pwnedpasswords.com/range\"\n",
        "# Process obtained from https://www.troyhunt.com/ive-just-launched-pwned-passwords-version-2/#cloudflareprivacyandkanonymity\n",
        "# First we obtain the first 5 characters of the password encoded in SHA-1\n",
        "sha1_hash = hashlib.sha1(password.encode()).hexdigest()\n",
        "range = sha1_hash[:5].upper()\n",
        "\n",
        "# We obtain all filtered passwords in that range and check for ours (with anonimity, there will be about 475 results, we are NOT giving away our password)\n",
        "r = requests.get(f'{base_url}/{range}')\n",
        "response_text = r.text\n",
        "index = response_text.find(sha1_hash[5:].upper())\n",
        "\n",
        "if index != -1:\n",
        "  leaked_number = response_text[index:].split('\\r\\n')[0].split(':')[1]\n",
        "  print(f'This password has been seen {leaked_number} times before...')\n",
        "else:\n",
        "  print('This password has not been leaked (yet...)')\n"
      ]
    },
    {
      "cell_type": "markdown",
      "metadata": {
        "id": "ktNt1E_k-2Eu"
      },
      "source": [
        "# References\n",
        "1. [Salt OWASP](https://cheatsheetseries.owasp.org/cheatsheets/Password_Storage_Cheat_Sheet.html#salting)\n",
        "1. [Pepper OWASP](https://cheatsheetseries.owasp.org/cheatsheets/Password_Storage_Cheat_Sheet.html#peppering)\n"
      ]
    }
  ],
  "metadata": {
    "colab": {
      "provenance": []
    },
    "kernelspec": {
      "display_name": "Python 3 (ipykernel)",
      "language": "python",
      "name": "python3"
    },
    "language_info": {
      "codemirror_mode": {
        "name": "ipython",
        "version": 3
      },
      "file_extension": ".py",
      "mimetype": "text/x-python",
      "name": "python",
      "nbconvert_exporter": "python",
      "pygments_lexer": "ipython3",
      "version": "3.11.6"
    }
  },
  "nbformat": 4,
  "nbformat_minor": 0
}