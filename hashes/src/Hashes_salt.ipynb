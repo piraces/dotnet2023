{
 "cells": [
  {
   "cell_type": "code",
   "execution_count": null,
   "metadata": {},
   "outputs": [],
   "source": [
    "import hashlib\n",
    "\n"
   ]
  },
  {
   "cell_type": "code",
   "execution_count": null,
   "metadata": {},
   "outputs": [],
   "source": [
    "password = '12345Qwert'\n",
    "salt = 'dotnet2023'"
   ]
  },
  {
   "cell_type": "markdown",
   "metadata": {},
   "source": [
    "# MD5 Hashes (Vulnerable)"
   ]
  },
  {
   "cell_type": "code",
   "execution_count": null,
   "metadata": {},
   "outputs": [],
   "source": [
    "def get_md5_hash(text: str) -> str:\n",
    "    md5_hash = hashlib.md5()\n",
    "    md5_hash.update(text.encode('utf-8'))\n",
    "    hash_result = md5_hash.hexdigest()\n",
    "    \n",
    "    return hash_result\n",
    "\n",
    "def get_md5_salted_hash(text: str, salt: str) -> str:\n",
    "    salted_text = salt + text\n",
    "    \n",
    "    return get_md5_hash(salted_text)\n",
    "    \n",
    "    "
   ]
  },
  {
   "cell_type": "code",
   "execution_count": null,
   "metadata": {},
   "outputs": [],
   "source": [
    "hash = get_md5_hash(password)\n",
    "salted_hash = get_md5_salted_hash(password, salt)\n",
    "\n",
    "print(f'The md5 hash is: {hash}')\n",
    "print(f'The salted md5 hash is: {salted_hash}')"
   ]
  },
  {
   "cell_type": "markdown",
   "metadata": {},
   "source": [
    "# SHA 256 Hashes"
   ]
  },
  {
   "cell_type": "code",
   "execution_count": null,
   "metadata": {},
   "outputs": [],
   "source": [
    "def get_sha256_hash(text: str) -> str:\n",
    "    return hashlib.sha256(text.encode()).hexdigest()\n",
    "\n",
    "def get_sha256_salted_hash(text: str, salt: str) -> str:\n",
    "    salted_text = salt + text\n",
    "    return get_sha256_hash(salted_text)"
   ]
  },
  {
   "cell_type": "code",
   "execution_count": null,
   "metadata": {},
   "outputs": [],
   "source": [
    "hash = get_sha256_hash(password)\n",
    "salted_hash = get_sha256_salted_hash(password, salt)\n",
    "\n",
    "print(f'The sha256 hash is: {hash}')\n",
    "print(f'The salted sha256 hash is: {salted_hash}')"
   ]
  },
  {
   "cell_type": "markdown",
   "metadata": {},
   "source": [
    "# References\n",
    "1. [Salt OWASP](https://cheatsheetseries.owasp.org/cheatsheets/Password_Storage_Cheat_Sheet.html#salting)\n",
    "1. [Pepper OWASP](https://cheatsheetseries.owasp.org/cheatsheets/Password_Storage_Cheat_Sheet.html#peppering)\n"
   ]
  }
 ],
 "metadata": {
  "kernelspec": {
   "display_name": "Python 3",
   "language": "python",
   "name": "python3"
  },
  "language_info": {
   "codemirror_mode": {
    "name": "ipython",
    "version": 3
   },
   "file_extension": ".py",
   "mimetype": "text/x-python",
   "name": "python",
   "nbconvert_exporter": "python",
   "pygments_lexer": "ipython3",
   "version": "3.6.3"
  }
 },
 "nbformat": 4,
 "nbformat_minor": 2
}
