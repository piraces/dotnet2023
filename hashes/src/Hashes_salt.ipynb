{
 "cells": [
  {
   "cell_type": "code",
   "execution_count": 10,
   "metadata": {
    "id": "0Wg0gBwY-2Eo"
   },
   "outputs": [],
   "source": [
    "import hashlib\n",
    "import requests"
   ]
  },
  {
   "cell_type": "code",
   "execution_count": 11,
   "metadata": {
    "id": "v7fM-yxH-2Er"
   },
   "outputs": [],
   "source": [
    "password = '12345Qwert'\n",
    "salt = 'whatAnAmazingCon'"
   ]
  },
  {
   "cell_type": "markdown",
   "metadata": {
    "id": "mILfMsre-2Er"
   },
   "source": [
    "# MD5 Hashes (Vulnerable)"
   ]
  },
  {
   "cell_type": "code",
   "execution_count": 12,
   "metadata": {
    "id": "KZW8caXA-2Es"
   },
   "outputs": [],
   "source": [
    "def get_md5_hash(text: str) -> str:\n",
    "    md5_hash = hashlib.md5()\n",
    "    md5_hash.update(text.encode('utf-8'))\n",
    "    hash_result = md5_hash.hexdigest()\n",
    "\n",
    "    return hash_result\n",
    "\n",
    "def get_md5_salted_hash(text: str, salt: str) -> str:\n",
    "    salted_text = salt + text\n",
    "\n",
    "    return get_md5_hash(salted_text)\n",
    "\n"
   ]
  },
  {
   "cell_type": "code",
   "execution_count": 13,
   "metadata": {
    "colab": {
     "base_uri": "https://localhost:8080/"
    },
    "id": "hzZ38C7D-2Et",
    "outputId": "eb1cb2c7-6168-44e5-cf54-e15d0fc9b2ef"
   },
   "outputs": [
    {
     "name": "stdout",
     "output_type": "stream",
     "text": [
      "The md5 hash is: 18a49c364ba10330d894b11652e65bc2\n",
      "The salted md5 hash is: ec31aadc6a06fe53ca079564c48596a6\n"
     ]
    }
   ],
   "source": [
    "hash = get_md5_hash(password)\n",
    "salted_hash = get_md5_salted_hash(password, salt)\n",
    "\n",
    "print(f'The md5 hash is: {hash}')\n",
    "print(f'The salted md5 hash is: {salted_hash}')"
   ]
  },
  {
   "cell_type": "markdown",
   "metadata": {
    "id": "7v8iB_kH-2Et"
   },
   "source": [
    "# SHA 256 Hashes"
   ]
  },
  {
   "cell_type": "code",
   "execution_count": 14,
   "metadata": {
    "id": "ZeGVBMMv-2Et"
   },
   "outputs": [],
   "source": [
    "def get_sha256_hash(text: str) -> str:\n",
    "    return hashlib.sha256(text.encode()).hexdigest()\n",
    "\n",
    "def get_sha256_salted_hash(text: str, salt: str) -> str:\n",
    "    salted_text = salt + text\n",
    "    return get_sha256_hash(salted_text)"
   ]
  },
  {
   "cell_type": "code",
   "execution_count": 15,
   "metadata": {
    "colab": {
     "base_uri": "https://localhost:8080/"
    },
    "id": "9d6L4idW-2Eu",
    "outputId": "e8d66ea0-73d3-42d9-8cb3-ba220bfb5fec"
   },
   "outputs": [
    {
     "name": "stdout",
     "output_type": "stream",
     "text": [
      "The sha256 hash is: c90142696762be2f4632c18382315ab39e20a41e997cd8a41502aeafcfae49fe\n",
      "The salted sha256 hash is: b60c0049182cc396182f62cf598c39a4cfe73ce889f31c840014c09cdc1b3bb6\n"
     ]
    }
   ],
   "source": [
    "hash = get_sha256_hash(password)\n",
    "salted_hash = get_sha256_salted_hash(password, salt)\n",
    "\n",
    "print(f'The sha256 hash is: {hash}')\n",
    "print(f'The salted sha256 hash is: {salted_hash}')"
   ]
  },
  {
   "cell_type": "markdown",
   "metadata": {},
   "source": [
    "# Certificates Checker\n"
   ]
  },
  {
   "cell_type": "code",
   "execution_count": 16,
   "metadata": {},
   "outputs": [
    {
     "name": "stdout",
     "output_type": "stream",
     "text": [
      "Requirement already satisfied: certvalidator in /opt/conda/lib/python3.11/site-packages (0.11.1)\n",
      "Requirement already satisfied: asn1crypto>=0.18.1 in /opt/conda/lib/python3.11/site-packages (from certvalidator) (1.5.1)\n",
      "Requirement already satisfied: oscrypto>=0.16.1 in /opt/conda/lib/python3.11/site-packages (from certvalidator) (1.3.0)\n",
      "Note: you may need to restart the kernel to use updated packages.\n"
     ]
    }
   ],
   "source": [
    "pip install certvalidator\n"
   ]
  },
  {
   "cell_type": "code",
   "execution_count": 18,
   "metadata": {},
   "outputs": [
    {
     "name": "stdout",
     "output_type": "stream",
     "text": [
      "Unexpected The path could not be validated because the end-entity certificate expired 2015-04-12 23:59:59Z\n",
      " type: <class 'certvalidator.errors.PathValidationError'>\n"
     ]
    }
   ],
   "source": [
    "from oscrypto import tls\n",
    "from certvalidator import CertificateValidator\n",
    "\n",
    "\n",
    "expired_cert = 'expired.badssl.com'\n",
    "self_signed = 'self-signed.badssl.com'\n",
    "bad_dh = 'dh480.badssl.com'\n",
    "\n",
    "try:\n",
    "    session = tls.TLSSession(manual_validation=True)\n",
    "    connection = tls.TLSSocket(expired_cert, 443, session=session)\n",
    "\n",
    "    validator = CertificateValidator(connection.certificate, connection.intermediates)\n",
    "    validator.validate_tls(connection.hostname)\n",
    "except Exception as err:\n",
    "    print(f\"Unexpected {err}\")\n",
    "    print(f\" type: {type(err)}\")"
   ]
  },
  {
   "cell_type": "markdown",
   "metadata": {
    "id": "8Z5hmFRL-5dv"
   },
   "source": [
    "# Check for filtered password using HIBP (Have I Been Pwned?)"
   ]
  },
  {
   "cell_type": "code",
   "execution_count": 19,
   "metadata": {},
   "outputs": [],
   "source": [
    "password = '1234'"
   ]
  },
  {
   "cell_type": "code",
   "execution_count": 20,
   "metadata": {
    "colab": {
     "base_uri": "https://localhost:8080/"
    },
    "id": "ewcmnYy__GaZ",
    "outputId": "cde48bd7-0e13-4ad6-d9ec-d8d2950a6e3d"
   },
   "outputs": [
    {
     "name": "stdout",
     "output_type": "stream",
     "text": [
      "This password has been seen 1473205 times before...\n"
     ]
    }
   ],
   "source": [
    "base_url = \"https://api.pwnedpasswords.com/range\"\n",
    "# Process obtained from https://www.troyhunt.com/ive-just-launched-pwned-passwords-version-2/#cloudflareprivacyandkanonymity\n",
    "# First we obtain the first 5 characters of the password encoded in SHA-1\n",
    "sha1_hash = hashlib.sha1(password.encode()).hexdigest()\n",
    "range = sha1_hash[:5].upper()\n",
    "\n",
    "# We obtain all filtered passwords in that range and check for ours (with anonimity, there will be about 475 results, we are NOT giving away our password)\n",
    "r = requests.get(f'{base_url}/{range}')\n",
    "response_text = r.text\n",
    "index = response_text.find(sha1_hash[5:].upper())\n",
    "\n",
    "if index != -1:\n",
    "  leaked_number = response_text[index:].split('\\r\\n')[0].split(':')[1]\n",
    "  print(f'This password has been seen {leaked_number} times before...')\n",
    "else:\n",
    "  print('This password has not been leaked (yet...)')\n"
   ]
  },
  {
   "cell_type": "markdown",
   "metadata": {
    "id": "ktNt1E_k-2Eu"
   },
   "source": [
    "# References\n",
    "1. [Salt OWASP](https://cheatsheetseries.owasp.org/cheatsheets/Password_Storage_Cheat_Sheet.html#salting)\n",
    "1. [Pepper OWASP](https://cheatsheetseries.owasp.org/cheatsheets/Password_Storage_Cheat_Sheet.html#peppering)\n"
   ]
  },
  {
   "cell_type": "code",
   "execution_count": null,
   "metadata": {},
   "outputs": [],
   "source": []
  }
 ],
 "metadata": {
  "colab": {
   "provenance": []
  },
  "kernelspec": {
   "display_name": "Python 3 (ipykernel)",
   "language": "python",
   "name": "python3"
  },
  "language_info": {
   "codemirror_mode": {
    "name": "ipython",
    "version": 3
   },
   "file_extension": ".py",
   "mimetype": "text/x-python",
   "name": "python",
   "nbconvert_exporter": "python",
   "pygments_lexer": "ipython3",
   "version": "3.11.6"
  }
 },
 "nbformat": 4,
 "nbformat_minor": 4
}
